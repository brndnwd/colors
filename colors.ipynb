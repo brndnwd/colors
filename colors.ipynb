{
 "cells": [
  {
   "cell_type": "code",
   "execution_count": 4,
   "metadata": {},
   "outputs": [],
   "source": [
    "from PIL import Image\n",
    "import pandas as pd\n",
    "import numpy as np\n",
    "import os"
   ]
  },
  {
   "cell_type": "code",
   "execution_count": 31,
   "metadata": {},
   "outputs": [],
   "source": [
    "def top_n_colors(image, color_array, color_name_array,n):\n",
    "    '''\n",
    "        image: jpg file location\n",
    "        color_array: np.array of the colors we want to shift to\n",
    "        color_name_array: np.array containing names corresponding\n",
    "                            to the color_array\n",
    "        n: number of dominant colors we want to find\n",
    "        \n",
    "        function calculates the distance from each of the image's pixels\n",
    "        to each discrete color we want to include in our analysis\n",
    "        then takes the closest color to each pixel and returns the top\n",
    "        n of those closest colors\n",
    "    '''\n",
    "    # Open image with PIL's Image class .open() method\n",
    "    # convert to np.array using getdata() method which \n",
    "    # returns r,g,b for each pixel \n",
    "    image_array = np.array(list(Image.open(image).getdata()))\n",
    "    size = image_array.shape[0]\n",
    "    \n",
    "    # loop through colors and build distance array which is a \n",
    "    # stack of each pixels distance to each color\n",
    "    for i in range(len(color_array)):\n",
    "        if i == 0:\n",
    "            distance_array = ((image_array - color_array[i]) ** 2).sum(axis=1)\n",
    "        else:\n",
    "            distance_array = np.vstack((distance_array, ((image_array - color_array[i]) ** 2).sum(axis=1)))\n",
    "    \n",
    "    # indexes of min distance for each pixel where the index\n",
    "    # corresponds to the color with that min distance\n",
    "    mindexes = np.argmin(distance_array, axis=0)\n",
    "    \n",
    "    # index into the color_names_array with the mindexes\n",
    "    # then grab the top n unique colors and counts\n",
    "    unique_counts = list(np.unique(color_name_array[mindexes], return_counts=True))\n",
    "\n",
    "    # unfortunate that is not sorted so we converted to list of np.arrays\n",
    "    # and loop through taking the next highest frequency color and deleting\n",
    "    colors = []\n",
    "    for _ in range(n):\n",
    "        # if image has less colors than we asked for\n",
    "        if len(unique_counts[0]) == 0:\n",
    "            break\n",
    "            \n",
    "        max_idx = np.argmax(unique_counts[1])\n",
    "        # if next most frequent color makes up less than 10%\n",
    "        if unique_counts[1][max_idx] / size < 0.1:\n",
    "            break\n",
    "            \n",
    "        colors.append(unique_counts[0][max_idx])\n",
    "        unique_counts[0] = np.delete(unique_counts[0], max_idx)\n",
    "        unique_counts[1] = np.delete(unique_counts[1], max_idx)\n",
    "        \n",
    "    # if we broke the loop early\n",
    "    if len(colors) < n:\n",
    "        # add None's to fill the void\n",
    "        colors += [None for _ in range(n-len(colors))]\n",
    "        \n",
    "    return colors"
   ]
  },
  {
   "cell_type": "code",
   "execution_count": 3,
   "metadata": {},
   "outputs": [],
   "source": [
    "color_array = np.array([(255, 255, 255), \n",
    "                          (0, 0, 0),\n",
    "                          (255, 0, 0), \n",
    "                          (0, 255, 0), \n",
    "                          (0, 0, 255), \n",
    "                          (255, 255, 0), \n",
    "                          (0, 255, 255), \n",
    "                          (255, 0, 255), \n",
    "                          (192, 192, 192), \n",
    "                          (128, 128, 128),\n",
    "                          (128, 0, 0),\n",
    "                          (128, 128, 0), \n",
    "                          (0, 128, 0),\n",
    "                          (128, 0, 128), \n",
    "                          (0, 128, 128), \n",
    "                          (0, 0, 128), \n",
    "                          (255, 215, 0),\n",
    "                          (210, 180, 140)])\n",
    "color_name_array = np.array(['white', 'black','red', 'lime', 'blue', 'yellow', 'cyan',\n",
    "                            'magenta', 'silver', 'gray', 'maroon', 'olive', 'green',\n",
    "                            'purple', 'teal', 'navy', 'gold', 'tan'])"
   ]
  },
  {
   "cell_type": "code",
   "execution_count": 41,
   "metadata": {},
   "outputs": [
    {
     "name": "stdout",
     "output_type": "stream",
     "text": [
      "good\n",
      "good\n"
     ]
    },
    {
     "ename": "ValueError",
     "evalue": "operands could not be broadcast together with shapes (50625,) (3,) ",
     "output_type": "error",
     "traceback": [
      "\u001b[1;31m---------------------------------------------------------------------------\u001b[0m",
      "\u001b[1;31mValueError\u001b[0m                                Traceback (most recent call last)",
      "\u001b[1;32m<ipython-input-41-fa9f44c6f758>\u001b[0m in \u001b[0;36m<module>\u001b[1;34m\u001b[0m\n\u001b[0;32m      1\u001b[0m \u001b[0mdf\u001b[0m \u001b[1;33m=\u001b[0m \u001b[0mpd\u001b[0m\u001b[1;33m.\u001b[0m\u001b[0mDataFrame\u001b[0m\u001b[1;33m(\u001b[0m\u001b[0mcolumns\u001b[0m\u001b[1;33m=\u001b[0m\u001b[1;33m[\u001b[0m\u001b[1;34m'filename'\u001b[0m\u001b[1;33m,\u001b[0m \u001b[1;34m'Primary Color'\u001b[0m\u001b[1;33m,\u001b[0m \u001b[1;34m'Secondary Color'\u001b[0m\u001b[1;33m,\u001b[0m \u001b[1;34m'Tertiary Color'\u001b[0m\u001b[1;33m]\u001b[0m\u001b[1;33m)\u001b[0m\u001b[1;33m\u001b[0m\u001b[1;33m\u001b[0m\u001b[0m\n\u001b[0;32m      2\u001b[0m \u001b[1;32mfor\u001b[0m \u001b[0mfile\u001b[0m \u001b[1;32min\u001b[0m \u001b[0mos\u001b[0m\u001b[1;33m.\u001b[0m\u001b[0mlistdir\u001b[0m\u001b[1;33m(\u001b[0m\u001b[1;34m'images/'\u001b[0m\u001b[1;33m)\u001b[0m\u001b[1;33m:\u001b[0m\u001b[1;33m\u001b[0m\u001b[1;33m\u001b[0m\u001b[0m\n\u001b[1;32m----> 3\u001b[1;33m     \u001b[0mtnc\u001b[0m \u001b[1;33m=\u001b[0m \u001b[0mtop_n_colors\u001b[0m\u001b[1;33m(\u001b[0m\u001b[1;34m'images/'\u001b[0m \u001b[1;33m+\u001b[0m \u001b[1;34mf'{file}'\u001b[0m\u001b[1;33m,\u001b[0m \u001b[0mcolor_array\u001b[0m\u001b[1;33m,\u001b[0m \u001b[0mcolor_name_array\u001b[0m\u001b[1;33m,\u001b[0m\u001b[1;36m3\u001b[0m\u001b[1;33m)\u001b[0m\u001b[1;33m\u001b[0m\u001b[1;33m\u001b[0m\u001b[0m\n\u001b[0m\u001b[0;32m      4\u001b[0m     \u001b[0mprint\u001b[0m\u001b[1;33m(\u001b[0m\u001b[1;34m'good'\u001b[0m\u001b[1;33m)\u001b[0m\u001b[1;33m\u001b[0m\u001b[1;33m\u001b[0m\u001b[0m\n\u001b[0;32m      5\u001b[0m     \u001b[0mdf\u001b[0m \u001b[1;33m=\u001b[0m \u001b[0mdf\u001b[0m\u001b[1;33m.\u001b[0m\u001b[0mappend\u001b[0m\u001b[1;33m(\u001b[0m\u001b[0mpd\u001b[0m\u001b[1;33m.\u001b[0m\u001b[0mDataFrame\u001b[0m\u001b[1;33m(\u001b[0m\u001b[1;33m[\u001b[0m\u001b[1;33m[\u001b[0m\u001b[0mfile\u001b[0m\u001b[1;33m]\u001b[0m \u001b[1;33m+\u001b[0m \u001b[0mtnc\u001b[0m\u001b[1;33m]\u001b[0m\u001b[1;33m,\u001b[0m \u001b[0mcolumns\u001b[0m\u001b[1;33m=\u001b[0m\u001b[1;33m[\u001b[0m\u001b[1;34m'filename'\u001b[0m\u001b[1;33m,\u001b[0m \u001b[1;34m'Primary Color'\u001b[0m\u001b[1;33m,\u001b[0m \u001b[1;34m'Secondary Color'\u001b[0m\u001b[1;33m,\u001b[0m \u001b[1;34m'Tertiary Color'\u001b[0m\u001b[1;33m]\u001b[0m\u001b[1;33m)\u001b[0m\u001b[1;33m)\u001b[0m\u001b[1;33m\u001b[0m\u001b[1;33m\u001b[0m\u001b[0m\n",
      "\u001b[1;32m<ipython-input-31-ccaeac9371f5>\u001b[0m in \u001b[0;36mtop_n_colors\u001b[1;34m(image, color_array, color_name_array, n)\u001b[0m\n\u001b[0;32m     22\u001b[0m     \u001b[1;32mfor\u001b[0m \u001b[0mi\u001b[0m \u001b[1;32min\u001b[0m \u001b[0mrange\u001b[0m\u001b[1;33m(\u001b[0m\u001b[0mlen\u001b[0m\u001b[1;33m(\u001b[0m\u001b[0mcolor_array\u001b[0m\u001b[1;33m)\u001b[0m\u001b[1;33m)\u001b[0m\u001b[1;33m:\u001b[0m\u001b[1;33m\u001b[0m\u001b[1;33m\u001b[0m\u001b[0m\n\u001b[0;32m     23\u001b[0m         \u001b[1;32mif\u001b[0m \u001b[0mi\u001b[0m \u001b[1;33m==\u001b[0m \u001b[1;36m0\u001b[0m\u001b[1;33m:\u001b[0m\u001b[1;33m\u001b[0m\u001b[1;33m\u001b[0m\u001b[0m\n\u001b[1;32m---> 24\u001b[1;33m             \u001b[0mdistance_array\u001b[0m \u001b[1;33m=\u001b[0m \u001b[1;33m(\u001b[0m\u001b[1;33m(\u001b[0m\u001b[0mimage_array\u001b[0m \u001b[1;33m-\u001b[0m \u001b[0mcolor_array\u001b[0m\u001b[1;33m[\u001b[0m\u001b[0mi\u001b[0m\u001b[1;33m]\u001b[0m\u001b[1;33m)\u001b[0m \u001b[1;33m**\u001b[0m \u001b[1;36m2\u001b[0m\u001b[1;33m)\u001b[0m\u001b[1;33m.\u001b[0m\u001b[0msum\u001b[0m\u001b[1;33m(\u001b[0m\u001b[0maxis\u001b[0m\u001b[1;33m=\u001b[0m\u001b[1;36m1\u001b[0m\u001b[1;33m)\u001b[0m\u001b[1;33m\u001b[0m\u001b[1;33m\u001b[0m\u001b[0m\n\u001b[0m\u001b[0;32m     25\u001b[0m         \u001b[1;32melse\u001b[0m\u001b[1;33m:\u001b[0m\u001b[1;33m\u001b[0m\u001b[1;33m\u001b[0m\u001b[0m\n\u001b[0;32m     26\u001b[0m             \u001b[0mdistance_array\u001b[0m \u001b[1;33m=\u001b[0m \u001b[0mnp\u001b[0m\u001b[1;33m.\u001b[0m\u001b[0mvstack\u001b[0m\u001b[1;33m(\u001b[0m\u001b[1;33m(\u001b[0m\u001b[0mdistance_array\u001b[0m\u001b[1;33m,\u001b[0m \u001b[1;33m(\u001b[0m\u001b[1;33m(\u001b[0m\u001b[0mimage_array\u001b[0m \u001b[1;33m-\u001b[0m \u001b[0mcolor_array\u001b[0m\u001b[1;33m[\u001b[0m\u001b[0mi\u001b[0m\u001b[1;33m]\u001b[0m\u001b[1;33m)\u001b[0m \u001b[1;33m**\u001b[0m \u001b[1;36m2\u001b[0m\u001b[1;33m)\u001b[0m\u001b[1;33m.\u001b[0m\u001b[0msum\u001b[0m\u001b[1;33m(\u001b[0m\u001b[0maxis\u001b[0m\u001b[1;33m=\u001b[0m\u001b[1;36m1\u001b[0m\u001b[1;33m)\u001b[0m\u001b[1;33m)\u001b[0m\u001b[1;33m)\u001b[0m\u001b[1;33m\u001b[0m\u001b[1;33m\u001b[0m\u001b[0m\n",
      "\u001b[1;31mValueError\u001b[0m: operands could not be broadcast together with shapes (50625,) (3,) "
     ]
    }
   ],
   "source": [
    "df = pd.DataFrame(columns=['filename', 'Primary Color', 'Secondary Color', 'Tertiary Color'])\n",
    "for file in os.listdir('images/'):\n",
    "    tnc = top_n_colors('images/' + f'{file}', color_array, color_name_array,3)\n",
    "    print('good')\n",
    "    df = df.append(pd.DataFrame([[file] + tnc], columns=['filename', 'Primary Color', 'Secondary Color', 'Tertiary Color']))\n",
    "df"
   ]
  },
  {
   "cell_type": "code",
   "execution_count": 42,
   "metadata": {},
   "outputs": [
    {
     "data": {
      "text/html": [
       "<div>\n",
       "<style scoped>\n",
       "    .dataframe tbody tr th:only-of-type {\n",
       "        vertical-align: middle;\n",
       "    }\n",
       "\n",
       "    .dataframe tbody tr th {\n",
       "        vertical-align: top;\n",
       "    }\n",
       "\n",
       "    .dataframe thead th {\n",
       "        text-align: right;\n",
       "    }\n",
       "</style>\n",
       "<table border=\"1\" class=\"dataframe\">\n",
       "  <thead>\n",
       "    <tr style=\"text-align: right;\">\n",
       "      <th></th>\n",
       "      <th>filename</th>\n",
       "      <th>Primary Color</th>\n",
       "      <th>Secondary Color</th>\n",
       "      <th>Tertiary Color</th>\n",
       "    </tr>\n",
       "  </thead>\n",
       "  <tbody>\n",
       "    <tr>\n",
       "      <th>0</th>\n",
       "      <td>buzz.JPG</td>\n",
       "      <td>white</td>\n",
       "      <td>black</td>\n",
       "      <td>gold</td>\n",
       "    </tr>\n",
       "    <tr>\n",
       "      <th>0</th>\n",
       "      <td>gorilla.jpg</td>\n",
       "      <td>black</td>\n",
       "      <td>None</td>\n",
       "      <td>None</td>\n",
       "    </tr>\n",
       "  </tbody>\n",
       "</table>\n",
       "</div>"
      ],
      "text/plain": [
       "      filename Primary Color Secondary Color Tertiary Color\n",
       "0     buzz.JPG         white           black           gold\n",
       "0  gorilla.jpg         black            None           None"
      ]
     },
     "execution_count": 42,
     "metadata": {},
     "output_type": "execute_result"
    }
   ],
   "source": [
    "df"
   ]
  },
  {
   "cell_type": "markdown",
   "metadata": {},
   "source": [
    "Stuck Here"
   ]
  },
  {
   "cell_type": "code",
   "execution_count": 32,
   "metadata": {},
   "outputs": [],
   "source": [
    "df = pd.DataFrame(columns=['filename', 'Primary Color', 'Secondary Color', 'Tertiary Color'])\n",
    "tnc = top_n_colors('images/' + 'yoda.jpg', color_array, color_name_array, 3)\n",
    "df = df.append(pd.DataFrame())"
   ]
  },
  {
   "cell_type": "code",
   "execution_count": 36,
   "metadata": {},
   "outputs": [
    {
     "data": {
      "text/html": [
       "<div>\n",
       "<style scoped>\n",
       "    .dataframe tbody tr th:only-of-type {\n",
       "        vertical-align: middle;\n",
       "    }\n",
       "\n",
       "    .dataframe tbody tr th {\n",
       "        vertical-align: top;\n",
       "    }\n",
       "\n",
       "    .dataframe thead th {\n",
       "        text-align: right;\n",
       "    }\n",
       "</style>\n",
       "<table border=\"1\" class=\"dataframe\">\n",
       "  <thead>\n",
       "    <tr style=\"text-align: right;\">\n",
       "      <th></th>\n",
       "      <th>filename</th>\n",
       "      <th>Primary Color</th>\n",
       "      <th>Secondary Color</th>\n",
       "      <th>Tertiary Color</th>\n",
       "    </tr>\n",
       "  </thead>\n",
       "  <tbody>\n",
       "    <tr>\n",
       "      <th>0</th>\n",
       "      <td>1</td>\n",
       "      <td>2</td>\n",
       "      <td>3</td>\n",
       "      <td>4</td>\n",
       "    </tr>\n",
       "  </tbody>\n",
       "</table>\n",
       "</div>"
      ],
      "text/plain": [
       "  filename Primary Color Secondary Color Tertiary Color\n",
       "0        1             2               3              4"
      ]
     },
     "execution_count": 36,
     "metadata": {},
     "output_type": "execute_result"
    }
   ],
   "source": [
    "df.append(pd.DataFrame([[1,2,3,4]], columns=['filename', 'Primary Color', 'Secondary Color', 'Tertiary Color']))"
   ]
  },
  {
   "cell_type": "code",
   "execution_count": 37,
   "metadata": {},
   "outputs": [
    {
     "data": {
      "text/html": [
       "<div>\n",
       "<style scoped>\n",
       "    .dataframe tbody tr th:only-of-type {\n",
       "        vertical-align: middle;\n",
       "    }\n",
       "\n",
       "    .dataframe tbody tr th {\n",
       "        vertical-align: top;\n",
       "    }\n",
       "\n",
       "    .dataframe thead th {\n",
       "        text-align: right;\n",
       "    }\n",
       "</style>\n",
       "<table border=\"1\" class=\"dataframe\">\n",
       "  <thead>\n",
       "    <tr style=\"text-align: right;\">\n",
       "      <th></th>\n",
       "      <th>filename</th>\n",
       "      <th>Primary Color</th>\n",
       "      <th>Secondary Color</th>\n",
       "      <th>Tertiary Color</th>\n",
       "    </tr>\n",
       "  </thead>\n",
       "  <tbody>\n",
       "  </tbody>\n",
       "</table>\n",
       "</div>"
      ],
      "text/plain": [
       "Empty DataFrame\n",
       "Columns: [filename, Primary Color, Secondary Color, Tertiary Color]\n",
       "Index: []"
      ]
     },
     "execution_count": 37,
     "metadata": {},
     "output_type": "execute_result"
    }
   ],
   "source": [
    "df"
   ]
  },
  {
   "cell_type": "code",
   "execution_count": 38,
   "metadata": {},
   "outputs": [
    {
     "data": {
      "text/plain": [
       "[[1, 2, 3, 4]]"
      ]
     },
     "execution_count": 38,
     "metadata": {},
     "output_type": "execute_result"
    }
   ],
   "source": [
    "[[1] + [2,3,4]]"
   ]
  },
  {
   "cell_type": "code",
   "execution_count": null,
   "metadata": {},
   "outputs": [],
   "source": []
  }
 ],
 "metadata": {
  "kernelspec": {
   "display_name": "Python 3",
   "language": "python",
   "name": "python3"
  },
  "language_info": {
   "codemirror_mode": {
    "name": "ipython",
    "version": 3
   },
   "file_extension": ".py",
   "mimetype": "text/x-python",
   "name": "python",
   "nbconvert_exporter": "python",
   "pygments_lexer": "ipython3",
   "version": "3.7.5"
  }
 },
 "nbformat": 4,
 "nbformat_minor": 2
}
